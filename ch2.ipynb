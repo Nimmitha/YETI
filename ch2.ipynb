{
 "cells": [
  {
   "cell_type": "code",
   "execution_count": 21,
   "id": "cb0976d5-7dbf-4b01-ba3f-65c8bcab5b1c",
   "metadata": {},
   "outputs": [],
   "source": [
    "import base64"
   ]
  },
  {
   "cell_type": "code",
   "execution_count": 1,
   "id": "df947df6-55e9-4b03-8d2f-f497b51664b8",
   "metadata": {},
   "outputs": [],
   "source": [
    "code = 1442"
   ]
  },
  {
   "cell_type": "code",
   "execution_count": 2,
   "id": "f5aa2050-2745-4854-81d6-a9e35745be4f",
   "metadata": {},
   "outputs": [],
   "source": [
    "result = 'zv6V6ZEPe0yxN238Mi+0DPAx5OEhZmwzhZteZViTiiM9wHlkaHidegKyPochziZNnnZk+Rru'\n",
    "original = 'If you put grapes in the microwave, they will explode.'"
   ]
  },
  {
   "cell_type": "code",
   "execution_count": 3,
   "id": "894964cb-bda8-4335-8fdb-5b525036b29b",
   "metadata": {},
   "outputs": [
    {
     "data": {
      "text/plain": [
       "72"
      ]
     },
     "execution_count": 3,
     "metadata": {},
     "output_type": "execute_result"
    }
   ],
   "source": [
    "len(result)"
   ]
  },
  {
   "cell_type": "code",
   "execution_count": 4,
   "id": "90cf1a0b-c667-471a-a648-f3dc47b7982d",
   "metadata": {},
   "outputs": [
    {
     "data": {
      "text/plain": [
       "54"
      ]
     },
     "execution_count": 4,
     "metadata": {},
     "output_type": "execute_result"
    }
   ],
   "source": [
    "len(original)"
   ]
  },
  {
   "cell_type": "code",
   "execution_count": 5,
   "id": "3ce91fd0-c51e-4ecd-9f0f-a17888a89d6c",
   "metadata": {},
   "outputs": [],
   "source": [
    "text = 'AAA'"
   ]
  },
  {
   "cell_type": "code",
   "execution_count": 19,
   "id": "29e93813-8bc8-485d-9927-6db9df19d14b",
   "metadata": {},
   "outputs": [],
   "source": [
    "binary = ''.join([format(ord(c), '08b') for c in text])"
   ]
  },
  {
   "cell_type": "code",
   "execution_count": 20,
   "id": "ae394bfe-5e05-4b62-b652-e7e396d9fba3",
   "metadata": {},
   "outputs": [
    {
     "data": {
      "text/plain": [
       "'010000010100000101000001'"
      ]
     },
     "execution_count": 20,
     "metadata": {},
     "output_type": "execute_result"
    }
   ],
   "source": [
    "binary"
   ]
  },
  {
   "cell_type": "code",
   "execution_count": 22,
   "id": "c8fe4cf3-cef6-44c5-a6c3-5ae051aaa469",
   "metadata": {},
   "outputs": [
    {
     "data": {
      "text/plain": [
       "b'AAA'"
      ]
     },
     "execution_count": 22,
     "metadata": {},
     "output_type": "execute_result"
    }
   ],
   "source": [
    "'AAA'.encode(\"ascii\")"
   ]
  },
  {
   "cell_type": "code",
   "execution_count": 36,
   "id": "1b1a3587-4429-44e4-811c-d444d953ca73",
   "metadata": {},
   "outputs": [
    {
     "data": {
      "text/plain": [
       "b'QQ=='"
      ]
     },
     "execution_count": 36,
     "metadata": {},
     "output_type": "execute_result"
    }
   ],
   "source": [
    "base64.b64encode(b'A')"
   ]
  },
  {
   "cell_type": "code",
   "execution_count": 37,
   "id": "68f66871-8845-4768-aa56-90a239ffa16e",
   "metadata": {},
   "outputs": [
    {
     "data": {
      "text/plain": [
       "b'\\xaf'"
      ]
     },
     "execution_count": 37,
     "metadata": {},
     "output_type": "execute_result"
    }
   ],
   "source": [
    "base64.b64decode(b'rw==')"
   ]
  },
  {
   "cell_type": "code",
   "execution_count": 35,
   "id": "f947ed62-070b-4905-a0a1-eccc0a0634fd",
   "metadata": {},
   "outputs": [
    {
     "data": {
      "text/plain": [
       "b'\\x84\\xbb\\xbf'"
      ]
     },
     "execution_count": 35,
     "metadata": {},
     "output_type": "execute_result"
    }
   ],
   "source": [
    "base64.b64decode(b'hLu/')"
   ]
  },
  {
   "cell_type": "code",
   "execution_count": null,
   "id": "02870d4a-7538-4b99-afba-012d33c0b55b",
   "metadata": {},
   "outputs": [],
   "source": []
  }
 ],
 "metadata": {
  "kernelspec": {
   "display_name": "Python 3 (ipykernel)",
   "language": "python",
   "name": "python3"
  },
  "language_info": {
   "codemirror_mode": {
    "name": "ipython",
    "version": 3
   },
   "file_extension": ".py",
   "mimetype": "text/x-python",
   "name": "python",
   "nbconvert_exporter": "python",
   "pygments_lexer": "ipython3",
   "version": "3.8.13"
  }
 },
 "nbformat": 4,
 "nbformat_minor": 5
}
